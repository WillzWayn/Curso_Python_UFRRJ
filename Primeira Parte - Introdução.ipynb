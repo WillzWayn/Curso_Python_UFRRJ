{
 "cells": [
  {
   "cell_type": "markdown",
   "metadata": {},
   "source": [
    "<center>\n",
    "\n",
    "# XIII Semana Acadêmica da Física - UFRRJ\n",
    "## Python aplicado a física e matemática\n",
    "\n",
    "##### Curso ministrado pelo aluno William Wayn\n",
    "\n",
    "\n",
    "\n",
    ".\n",
    "<table>\n",
    "    <tr>\n",
    "        <td>\n",
    "            <img src=\"http://cursos.ufrrj.br/posgraduacao/ppge/files/2013/09/ufrrj.jpg\" alt=\"UFRRJ\" width='70%' height='70%'>\n",
    "        </td>\n",
    "        <td>\n",
    "         <img src=\"http://blog.evaldojunior.com.br/assets/images/aulas_python.png\" alt='Curso Python' >\n",
    "        </td>\n",
    "    </tr>\n",
    "\n",
    "   "
   ]
  },
  {
   "cell_type": "code",
   "execution_count": null,
   "metadata": {
    "collapsed": true
   },
   "outputs": [],
   "source": []
  },
  {
   "cell_type": "code",
   "execution_count": 3,
   "metadata": {},
   "outputs": [
    {
     "data": {
      "text/plain": [
       "'3.7.0'"
      ]
     },
     "execution_count": 3,
     "metadata": {},
     "output_type": "execute_result"
    }
   ],
   "source": [
    "import platform\n",
    "platform.python_version()"
   ]
  },
  {
   "cell_type": "markdown",
   "metadata": {},
   "source": [
    "<a ref=\"https://docs.python.org/3.6/\"> Documentação do Python 3.6</a>"
   ]
  },
  {
   "cell_type": "code",
   "execution_count": 11,
   "metadata": {
    "collapsed": true
   },
   "outputs": [],
   "source": [
    "import this"
   ]
  },
  {
   "cell_type": "markdown",
   "metadata": {},
   "source": [
    "   ## Operações básicas em python"
   ]
  },
  {
   "cell_type": "code",
   "execution_count": null,
   "metadata": {
    "collapsed": true
   },
   "outputs": [],
   "source": [
    "# == Soma (+)\n",
    "# 1 + 1\n",
    "# 1 + 3.5\n",
    "# 'Aba' + 'caxi'\n",
    "# 'Aba' + 'caxi' + '4' + '3'\n",
    "# == Subtração (-)\n",
    "# -1 + 2.5\n",
    "# 100 - 45\n",
    "# 1.1 - 5\n",
    "# == Multiplicação (*)\n",
    "# 2 * 5\n",
    "# 2.5 * 0.2\n",
    "# 4 * 'aba'\n",
    "# == Divisão (/)\n",
    "# 3 / 2\n",
    "# 4 / 2\n",
    "# 3 / 2.0\n",
    "# == Resultado inteiro da divisão (//)\n",
    "# 5 // 2\n",
    "# -3 // 2\n",
    "# == Resto da divisão (%)\n",
    "# 9 % 2\n",
    "# 11 % 3\n",
    "# 10 % 2\n",
    "# == Calculo de potencia (**)\n",
    "# 2**10 # = 2^10\n",
    "# 3 ** (1/2)\n",
    "# 3 ** 0.5\n",
    "# == Ordem de operações\n",
    "# 5 + 5 * 3 \n",
    "# (5 + 5) * 3\n",
    "# == Trabalha com Complexos (j) .imag, . real, abs(), .conjugate()\n",
    "#(2 + 3j)\n"
   ]
  },
  {
   "cell_type": "markdown",
   "metadata": {},
   "source": [
    "<center>\n",
    "<h2> Interagindo com o python, entrada e saída de dados:</h2>\n",
    "</center>\n",
    "<br>\n",
    "- input()\n",
    "    - Permite ao usuário fornecendo dados para o programa.\n",
    "\n",
    "-----------\n",
    "\n",
    "- print()\n",
    "    - Permite ao programa explanar resultados na tela.\n",
    "    "
   ]
  },
  {
   "cell_type": "code",
   "execution_count": 496,
   "metadata": {},
   "outputs": [
    {
     "name": "stdout",
     "output_type": "stream",
     "text": [
      "digite uma letra: 2\n",
      "2 + 2 é igual a: \n",
      " 4\n"
     ]
    }
   ],
   "source": [
    "input('digite uma letra: ')\n",
    "print('2 + 2 é igual a: \\n', 2+2)"
   ]
  },
  {
   "cell_type": "markdown",
   "metadata": {},
   "source": [
    "<center> <h2>Variaveis em Python</h2> </center>\n",
    "\n",
    "--------\n",
    "\n",
    "<br>\n",
    "\n",
    "\n",
    "- As variáveis nos permite atribuir nomes e letras para um certo dado.\n",
    " \n"
   ]
  },
  {
   "cell_type": "code",
   "execution_count": 2,
   "metadata": {
    "collapsed": true,
    "scrolled": true
   },
   "outputs": [],
   "source": [
    "a = 23 \n",
    "A = 5 # Python tem sensibilidade com a variável, a != A\n",
    "y = 12\n",
    "B = 'String'\n",
    "aA = 5\n",
    "\n",
    "\n",
    "print(' a+y =' , (a + y) , ',' , 'A+y = ', A + y , ' e por ultimo, aA =' , aA,B)"
   ]
  },
  {
   "cell_type": "markdown",
   "metadata": {},
   "source": [
    "<center> <h2>Operações com variáveis</h2> </center>\n",
    "\n",
    "--------\n",
    "<br>\n"
   ]
  },
  {
   "cell_type": "code",
   "execution_count": null,
   "metadata": {
    "collapsed": true
   },
   "outputs": [],
   "source": [
    "X = 2\n",
    "# X += 2 # X = X + 2\n",
    "# X -= 1 # X = X - 1\n",
    "#X *= 2  #  X = X * 2\n",
    "#X /= 5  # X = X / 5\n",
    "#X **= 2 \n",
    "#X += (X+5)*4*X #  X = (X+5)* X * 4\n",
    "\n",
    "print(X)"
   ]
  },
  {
   "cell_type": "code",
   "execution_count": 497,
   "metadata": {},
   "outputs": [
    {
     "name": "stdout",
     "output_type": "stream",
     "text": [
      "24\n"
     ]
    }
   ],
   "source": [
    "## Problema 1. Calcule a area de um paralelepipedo de dimenções, a,b,c;\n",
    "\n",
    "#Passo 1: Definir as variaveis:\n",
    "a = 2\n",
    "(b,c) = (3,4) \n",
    "total = a*b*c\n",
    "print(total)"
   ]
  },
  {
   "cell_type": "code",
   "execution_count": 498,
   "metadata": {},
   "outputs": [
    {
     "name": "stdout",
     "output_type": "stream",
     "text": [
      "11\n"
     ]
    }
   ],
   "source": [
    "'''Um movel se movimenta unidimencionalmente em torno\n",
    "#do eixo x e tem suas coordenadas\n",
    "espaciais seguindo a seguinte equação, f(x) = 3x^2 + 2x + 3'''\n",
    "\n",
    "x = 2\n",
    "\n",
    "dist = x**2 + 2*x + 3\n",
    "\n",
    "print(dist)"
   ]
  },
  {
   "cell_type": "markdown",
   "metadata": {},
   "source": [
    "<center> <h2>Tipos de Variáveis</h2> </center>\n",
    "\n",
    "--------\n",
    "\n",
    "<br>\n",
    "\n",
    "- Strings\n",
    "- Inteiros\n",
    "- Floats\n",
    "- Booleanos\n",
    "- Complexos"
   ]
  },
  {
   "cell_type": "code",
   "execution_count": null,
   "metadata": {
    "collapsed": true
   },
   "outputs": [],
   "source": [
    "string1 = 'Palavras'\n",
    "int1 = 42 #numeros inteiros\n",
    "float1 = -4.20 #Numeros reais\n",
    "complexos = 3 + 2j\n",
    "booleano = True # OU False\n",
    "\n",
    "##BOOLEANOS\n",
    "\n",
    "#type(booleano)\n",
    "#print(int(booleano))\n",
    "#print(int(False), int(True))\n",
    "#print(bool(0),bool(1))\n",
    "\n",
    "## resultado de divisão e multiplicação\n",
    "#print(8/2, type(8/2)) # Resulta (4.0)\n",
    "#print(2*2, type(2*2)) # retorna inteiro 4\n",
    "\n",
    "#int2 = str(complexos)\n",
    "\n",
    "## Algumas operações\n",
    "#abs(complexos)\n",
    "#abs(int1)\n",
    "#max(2,1,3,4,5,3)\n",
    "#min(2,1,3,4,5,1)\n",
    "\n",
    "\n",
    "\n"
   ]
  },
  {
   "cell_type": "markdown",
   "metadata": {},
   "source": [
    "<center> <h2>Operações</h2> </center>\n",
    "\n",
    "--------\n",
    "\n",
    "<br>\n"
   ]
  },
  {
   "cell_type": "markdown",
   "metadata": {},
   "source": []
  },
  {
   "cell_type": "markdown",
   "metadata": {},
   "source": [
    "<center> <h2>Operadores relacionais</h2> </center>\n",
    "<font color='#8181F7'>(retorna um booleano de valor True ou False)</font>\n",
    "\n",
    "--------\n",
    "\n",
    "\n",
    "\n",
    "\n",
    "\n",
    "\n",
    "<br>\n",
    "<br>\n",
    "    \n",
    "\n",
    ">   ==     IGUAL\n",
    "\n",
    ">   !=     DIFERENTE\n",
    "\n",
    ">   <, >    MENOR QUE, MAIOR QUE\n",
    "\n",
    ">   =<, => MENOR OU IGUAL, MAIOR OU IGUAL"
   ]
  },
  {
   "cell_type": "code",
   "execution_count": null,
   "metadata": {
    "collapsed": true
   },
   "outputs": [],
   "source": [
    "a = 5\n",
    "b = 2\n",
    "# 2 == 4\n",
    "# 4 != 4\n",
    "# 2 != 4\n",
    "# 6 > 6\n",
    "# 6 >= 6\n",
    "# a < b\n",
    "# a <= b "
   ]
  },
  {
   "cell_type": "code",
   "execution_count": null,
   "metadata": {
    "collapsed": true
   },
   "outputs": [],
   "source": []
  },
  {
   "cell_type": "code",
   "execution_count": null,
   "metadata": {
    "collapsed": true
   },
   "outputs": [],
   "source": []
  },
  {
   "cell_type": "markdown",
   "metadata": {},
   "source": [
    "<center> <h1> Estruturas de laços e condicionais </h1> </center>\n",
    "\n",
    "\n",
    "\n",
    "----------\n",
    "\n",
    "\n",
    "### Condicional (se):\n",
    ">if         (SE)<br>\n",
    "elif     (Então, se)<br>\n",
    "else       (Então)<br>\n",
    "\n",
    "\n",
    "    \n",
    "### Estruturas de laços\n",
    "\n",
    ">For       (*PARA*)<br>\n",
    "While     (*ENQUANTO*)\n",
    "\n",
    "\n",
    "### Controle de Fluxo - Break e Continue\n",
    "\n",
    "> Break    (Pausa nosso loop)<br>\n",
    "  Continue (Pula uma interação do loop) \n"
   ]
  },
  {
   "cell_type": "markdown",
   "metadata": {},
   "source": [
    "<center><h3> Estrutura Condicionais</h3>"
   ]
  },
  {
   "cell_type": "code",
   "execution_count": null,
   "metadata": {
    "collapsed": true
   },
   "outputs": [],
   "source": [
    " idade = 18\n",
    "if idade >= 18:\n",
    "    print('maior de idade')\n",
    "else:\n",
    "    print('menor de idade')"
   ]
  },
  {
   "cell_type": "code",
   "execution_count": null,
   "metadata": {
    "collapsed": true
   },
   "outputs": [],
   "source": [
    " idade = 15\n",
    "if idade < 12:\n",
    "            print('criança')\n",
    "elif idade < 18:\n",
    "            print('adolescente')\n",
    "elif idade < 60:\n",
    "            print('adulto')\n",
    "else:\n",
    "            print('idoso')"
   ]
  },
  {
   "cell_type": "code",
   "execution_count": null,
   "metadata": {
    "collapsed": true
   },
   "outputs": [],
   "source": []
  },
  {
   "cell_type": "code",
   "execution_count": null,
   "metadata": {
    "collapsed": true
   },
   "outputs": [],
   "source": [
    "#Utilizando while !\n",
    "x = 0;\n",
    "soma = 0  #Variaveis globais x locais\n",
    "while(x < 20):\n",
    "    print('nosso x agora é', x)\n",
    "    x += 1\n",
    "    soma += x\n",
    "    #print(soma)\n",
    "print(soma)\n"
   ]
  },
  {
   "cell_type": "code",
   "execution_count": null,
   "metadata": {
    "collapsed": true
   },
   "outputs": [],
   "source": [
    "#Usando FOR;\n",
    "print ()\n",
    "soma = 0\n",
    "for x in range(0,21): #(start, stop, step)  \n",
    "    print('nosso x agora é, ',x)\n",
    "    soma += x\n",
    "    \n",
    "print('#'*40)\n",
    "print ('Soma total é',soma)"
   ]
  },
  {
   "cell_type": "code",
   "execution_count": null,
   "metadata": {
    "collapsed": true
   },
   "outputs": [],
   "source": []
  },
  {
   "cell_type": "code",
   "execution_count": 29,
   "metadata": {},
   "outputs": [
    {
     "name": "stdout",
     "output_type": "stream",
     "text": [
      "nosso x agora é:  0\n",
      "nosso x agora é:  1\n",
      "nosso x agora é:  2\n",
      "nosso x agora é:  3\n",
      "nosso x agora é:  4\n",
      "nosso x agora é:  5\n",
      "nosso x agora é:  6\n",
      "nosso x agora é:  7\n",
      "nosso x agora é:  8\n",
      "nosso x agora é:  9\n",
      "nosso x agora é:  10\n",
      "nosso x agora é:  11\n",
      "nosso x agora é:  12\n",
      "nosso x agora é:  13\n",
      "nosso x agora é:  14\n",
      "nosso x agora é:  15\n",
      "nosso x agora é:  16\n",
      "nosso x agora é:  17\n",
      "nosso x agora é:  18\n",
      "nosso x agora é:  19\n",
      "nosso x agora é:  20\n",
      "210\n"
     ]
    }
   ],
   "source": [
    "soma = 0\n",
    "for x in range(0,21):\n",
    "   # if(x == 12):\n",
    "   #     print('nosso x agora é:  12! Iremos pausar nosso codigo')\n",
    "   #     break #continue\n",
    "    print('nosso x agora é: ', x)\n",
    "    soma += x\n",
    "    \n",
    "print (soma)"
   ]
  },
  {
   "cell_type": "code",
   "execution_count": null,
   "metadata": {
    "collapsed": true
   },
   "outputs": [],
   "source": [
    "soma = 0\n",
    "for x in range(0,21):\n",
    "    print('nosso x agora é: ', x)\n",
    "    if(x == 12):\n",
    "        print('nosso x agora é:  12!  Palaremos essa interação')\n",
    "        continue\n",
    "    soma += x\n",
    "print (soma)"
   ]
  },
  {
   "cell_type": "markdown",
   "metadata": {
    "collapsed": true,
    "scrolled": true
   },
   "source": []
  },
  {
   "cell_type": "code",
   "execution_count": null,
   "metadata": {
    "collapsed": true
   },
   "outputs": [],
   "source": [
    "#Exemplo de uso do break\n",
    "\n",
    "# Meu numero é primo?\n",
    "\n",
    "num = 477777011\n",
    "num = 22\n",
    "\n",
    "# Pegando numeros do usuário\n",
    "# num = int(input(\"Enter a number: \"))\n",
    "\n",
    "##faremos um Loop dividindo o num por 2 até meu (numero-1). Se tivermos resto da divisão = 0. numero não é primo !\n",
    "for i in range(2,num):\n",
    "    #divisão é igual a zero?\n",
    "    if(num%i == 0):\n",
    "        #se retornar True, então:\n",
    "        print('Seu numero não é primo, pois,',num//i, 'vezes',i, 'é igual a:', num)\n",
    "        #break\n",
    "        \n"
   ]
  },
  {
   "cell_type": "markdown",
   "metadata": {},
   "source": [
    "<center> <h1> Funções em Python </h1> </center>\n",
    "\n",
    "----\n",
    "\n",
    "<br>\n",
    "\n",
    "\n",
    "Uma função ou rotina em python é usada para chamar um certo bloco de codigo que contem uma instrução e muito usada para conjuntos de codigos que se repetem e para deixar o código mais organizado, para criar uma função devemos à definir e nomear. "
   ]
  },
  {
   "cell_type": "code",
   "execution_count": null,
   "metadata": {
    "collapsed": true
   },
   "outputs": [],
   "source": [
    "### DEFININDO UMA FUNÇÃO EM PYTHON\n",
    "\n",
    "def increment(x):\n",
    "    return(x+1)\n",
    "\n",
    "\n",
    "def fun(x,y):\n",
    "    return(x+y)\n",
    "\n",
    "\n",
    "def tipo(x):\n",
    "    if(type(x) == bool):\n",
    "        print('x é um valor verdadeiro ou falso')\n",
    "    elif(type(x) == float):\n",
    "        print('x é um numero com vírgulas')\n",
    "    elif(type(x) == int):\n",
    "        print('x é um valor inteiro')\n",
    "    else:\n",
    "        print('Não pude definir o tipo do valor informado, desculpe!')\n",
    "        \n",
    "\n",
    "\n"
   ]
  },
  {
   "cell_type": "code",
   "execution_count": 15,
   "metadata": {},
   "outputs": [
    {
     "name": "stdout",
     "output_type": "stream",
     "text": [
      "16\n"
     ]
    }
   ],
   "source": [
    "## Problema 1. Calcule a area de um paralelepipedo de dimenções, a,b,c;\n",
    "\n",
    "\n",
    "def areaParalel(a,b,c):\n",
    "    return a*b*c\n",
    "\n",
    "\n",
    "print(areaParalel(2,2,4))"
   ]
  },
  {
   "cell_type": "markdown",
   "metadata": {},
   "source": [
    "<a id=\"11\"></a> <br>\n",
    "### Função dentro de outra função\n",
    "* Exemplo\n",
    "```python\n",
    "def raiz():\n",
    "    \"\"\" essa função retorna uma raiz \"\"\"\n",
    "    def add():\n",
    "        \"\"\" essa função adiciona 2 variaveis \"\"\"\n",
    "        x = 2\n",
    "        y = 3\n",
    "        z = x + y\n",
    "        return z\n",
    "    return add()**2\n",
    "print(raiz())\n",
    "```\n",
    "    \n",
    "\n",
    "\n",
    "### Argumentos padrões ou Flexiveis de uma função\n",
    "* Exemplo de argumento padrão:\n",
    "<br>\n",
    "\n",
    "```python\n",
    "def f(a, b=1):\n",
    "        \"\"\" b = 1 será nosso argumento padrãp\"\"\"\n",
    "```\n",
    "* Flexible argument example:\n",
    "```python\n",
    "def f(*args):\n",
    "       \"\"\" *args Diz que nosso argumento pode ser um ou mais de um\"\"\"\n",
    "       ```\n",
    "<br><br>"
   ]
  },
  {
   "cell_type": "code",
   "execution_count": 24,
   "metadata": {},
   "outputs": [
    {
     "name": "stdout",
     "output_type": "stream",
     "text": [
      "81\n"
     ]
    }
   ],
   "source": [
    "def raiz(x):\n",
    "    return x**2\n",
    "\n",
    "def soma(a,b,c):\n",
    "    return a+b+c\n",
    "\n",
    "print(raiz(soma(2,3,4)))"
   ]
  },
  {
   "cell_type": "code",
   "execution_count": 25,
   "metadata": {},
   "outputs": [
    {
     "name": "stdout",
     "output_type": "stream",
     "text": [
      "f(5) = 8\n",
      "f(5,4,3) = 12\n"
     ]
    }
   ],
   "source": [
    "# Argumento padrão\n",
    "def f(a, b = 1, c = 2):\n",
    "    y = a + b + c\n",
    "    return y\n",
    "print('f(5) =',f(5))\n",
    "# Valores para mudança no argumento\n",
    "print('f(5,4,3) =',f(5,4,3))"
   ]
  },
  {
   "cell_type": "code",
   "execution_count": 21,
   "metadata": {},
   "outputs": [
    {
     "name": "stdout",
     "output_type": "stream",
     "text": [
      "6\n",
      "\n",
      "1\n",
      "2\n",
      "3\n",
      "4\n",
      "5\n",
      "6\n"
     ]
    }
   ],
   "source": [
    "# Argumentos Flexíveis *args\n",
    "def f(*args):\n",
    "    for i in args:\n",
    "        print(i)\n",
    "f(6)\n",
    "print(\"\")\n",
    "f(1,2,3,4,5,6)"
   ]
  },
  {
   "cell_type": "code",
   "execution_count": 23,
   "metadata": {},
   "outputs": [
    {
     "name": "stdout",
     "output_type": "stream",
     "text": [
      "16\n"
     ]
    },
    {
     "ename": "NameError",
     "evalue": "name 'soma' is not defined",
     "output_type": "error",
     "traceback": [
      "\u001b[1;31m---------------------------------------------------------------------------\u001b[0m",
      "\u001b[1;31mNameError\u001b[0m                                 Traceback (most recent call last)",
      "\u001b[1;32m<ipython-input-23-b38b8e9ff940>\u001b[0m in \u001b[0;36m<module>\u001b[1;34m()\u001b[0m\n\u001b[0;32m      5\u001b[0m \u001b[1;33m\u001b[0m\u001b[0m\n\u001b[0;32m      6\u001b[0m \u001b[0msuma\u001b[0m \u001b[1;33m=\u001b[0m \u001b[1;32mlambda\u001b[0m \u001b[0mx\u001b[0m\u001b[1;33m,\u001b[0m\u001b[0my\u001b[0m\u001b[1;33m,\u001b[0m\u001b[0mz\u001b[0m\u001b[1;33m:\u001b[0m \u001b[0mx\u001b[0m\u001b[1;33m+\u001b[0m\u001b[0my\u001b[0m\u001b[1;33m+\u001b[0m\u001b[0mz\u001b[0m   \u001b[1;31m# x,y,z são os nomes dos argumentos.\u001b[0m\u001b[1;33m\u001b[0m\u001b[0m\n\u001b[1;32m----> 7\u001b[1;33m \u001b[0mprint\u001b[0m\u001b[1;33m(\u001b[0m\u001b[0msoma\u001b[0m\u001b[1;33m(\u001b[0m\u001b[1;36m1\u001b[0m\u001b[1;33m,\u001b[0m\u001b[1;36m2\u001b[0m\u001b[1;33m,\u001b[0m\u001b[1;36m3\u001b[0m\u001b[1;33m)\u001b[0m\u001b[1;33m)\u001b[0m\u001b[1;33m\u001b[0m\u001b[0m\n\u001b[0m",
      "\u001b[1;31mNameError\u001b[0m: name 'soma' is not defined"
     ]
    }
   ],
   "source": [
    "# Função lambda \n",
    "\n",
    "raizQuadrada = lambda x: x**2     # x é o nome do argumento.\n",
    "print(raizQuadrada(4))\n",
    "\n",
    "suma = lambda x,y,z: x+y+z   # x,y,z são os nomes dos argumentos.\n",
    "print(soma(1,2,3))"
   ]
  },
  {
   "cell_type": "markdown",
   "metadata": {},
   "source": [
    "<center> <h1> Trabalhando com listas </h1> </center>\n",
    "\n",
    "----\n",
    "\n",
    "<br>\n",
    "\n",
    "\n",
    "### Principais comandos:\n",
    "\n",
    "\n"
   ]
  },
  {
   "cell_type": "code",
   "execution_count": 3,
   "metadata": {},
   "outputs": [
    {
     "name": "stdout",
     "output_type": "stream",
     "text": [
      "26\n"
     ]
    }
   ],
   "source": [
    "## Nosso string é um vetor de caracteres, é um tipo de lista!\n",
    "## Funções nos caracteres também se aplicam a uma lista !\n",
    "\n",
    "s = 'Eu adoro muito esse python'\n",
    "\n",
    "#tamanho da lista, função len()\n",
    "print(len(s))\n",
    "\n",
    "#Formas de fatiar meu string\n",
    "#print(s[:4]) #s[0:4]\n",
    "#print(s[4:])\n",
    "#print(s[:4]+s[4:])\n",
    "#print(s[-7::])\n",
    "#s[3:14]"
   ]
  },
  {
   "cell_type": "code",
   "execution_count": null,
   "metadata": {
    "collapsed": true
   },
   "outputs": [],
   "source": [
    "## Fatiando uma string\n",
    "s = 'Python é irado!'\n",
    "\n",
    "#.split(onde vai separar)\n",
    "display (s.split(' '))\n",
    "display (s.split('a'))\n",
    "s = s.split(' ', maxsplit = 1)\n",
    "\n",
    "\n",
    "## Join funciona assim {'o que vai entrar no lugar que juntou'.join(o que quer juntar)}\n",
    "\n",
    "display(s,' '.join(s))\n"
   ]
  },
  {
   "cell_type": "code",
   "execution_count": 289,
   "metadata": {},
   "outputs": [
    {
     "data": {
      "text/plain": [
       "['arroz', 'feijao', 'ovo']"
      ]
     },
     "metadata": {},
     "output_type": "display_data"
    },
    {
     "data": {
      "text/plain": [
       "list"
      ]
     },
     "metadata": {},
     "output_type": "display_data"
    },
    {
     "data": {
      "text/plain": [
       "'arroz'"
      ]
     },
     "metadata": {},
     "output_type": "display_data"
    },
    {
     "data": {
      "text/plain": [
       "['feijao']"
      ]
     },
     "metadata": {},
     "output_type": "display_data"
    },
    {
     "name": "stdout",
     "output_type": "stream",
     "text": [
      "['abacaxi', 'arroz', 'feijao', 'ovo']\n",
      "\n"
     ]
    }
   ],
   "source": [
    "## Criando e modificando uma lista\n",
    "\n",
    "#Criando uma lista\n",
    "compras = ['arroz', 'feijao', 'ovo']\n",
    "\n",
    "#Mostrando a lista\n",
    "display(compras,type(compras))\n",
    "\n",
    "#verificando elementos da lista\n",
    "display(compras[0])\n",
    "\n",
    "#Adicionando elementos ao final da lista\n",
    "compras.append('doce de leite')\n",
    "\n",
    "#Adicionar elemento em um indice especifico\n",
    "compras.insert(2, 'farofa')\n",
    "\n",
    "#Remover elemento do final da lista\n",
    "compras.pop()\n",
    "\n",
    "\n",
    "\n",
    "#Remover elemento em idice especifico\n",
    "compras.pop(2)\n",
    "del compras[2]\n",
    "\n",
    "#modificando elementos da lista\n",
    "compras[0] = 'macarrão'\n",
    "\n",
    "compras.remove('macarrão')\n",
    "display(compras)\n",
    "\n",
    "compras = ['arroz', 'feijao', 'ovo', 'abacaxi']\n",
    "\n",
    "print(sorted(compras))\n",
    "\n",
    "print()\n"
   ]
  },
  {
   "cell_type": "code",
   "execution_count": 296,
   "metadata": {},
   "outputs": [
    {
     "name": "stdout",
     "output_type": "stream",
     "text": [
      "['arroz', 'feijao', 'ovo', 'abacaxi']\n"
     ]
    },
    {
     "data": {
      "text/plain": [
       "['ovo', 'abacaxi']"
      ]
     },
     "execution_count": 296,
     "metadata": {},
     "output_type": "execute_result"
    }
   ],
   "source": []
  },
  {
   "cell_type": "code",
   "execution_count": null,
   "metadata": {
    "collapsed": true
   },
   "outputs": [],
   "source": [
    "## LOOPS EM uma lista\n",
    "\n",
    "for i in compras:\n",
    "    print('Comprar: ',i)\n",
    "\n",
    "#operador in realizando busca em uma lista\n",
    "('arroz' in compras)"
   ]
  },
  {
   "cell_type": "code",
   "execution_count": 1,
   "metadata": {},
   "outputs": [
    {
     "name": "stdout",
     "output_type": "stream",
     "text": [
      "nosso vetor é  [1, 2, 2, 10, 5, 4, 1, 2, 3, 0]\n",
      "\n",
      "nosso vetor organizado com a função sorted() fica: [0, 1, 1, 2, 2, 2, 3, 4, 5, 10]\n",
      "nossa lista está gravado na memoria do pc como:  [1, 2, 2, 10, 5, 4, 1, 2, 3, 0]\n",
      "\n",
      "Utilizando o método .reverse()\n",
      "Nossa variavel lst foi alterada na memoria! [0, 3, 2, 1, 4, 5, 10, 2, 2, 1]\n",
      "\n",
      "Utilizando o método .sort(), também alteramos a variável na memoria [0, 1, 1, 2, 2, 2, 3, 4, 5, 10]\n"
     ]
    }
   ],
   "source": [
    "lst = [1,2,2,10,5,4,1,2,3,0]\n",
    "print('nosso vetor é ',lst)\n",
    "print()\n",
    "#Utilizando função sorted(), Essa função não modifica nosso vetor !\n",
    "print('nosso vetor organizado com a função sorted() fica:',sorted(lst))\n",
    "print('nossa lista está gravado na memoria do pc como: ',lst)\n",
    "print()\n",
    "## LIST.sort() e .reverse()\n",
    "print('Utilizando o método .reverse()')\n",
    "lst.reverse()\n",
    "print('Nossa variavel lst foi alterada na memoria!', lst)\n",
    "print()\n",
    "lst.sort()\n",
    "print('Utilizando o método .sort(), também alteramos a variável na memoria', lst)\n"
   ]
  },
  {
   "cell_type": "code",
   "execution_count": null,
   "metadata": {
    "collapsed": true
   },
   "outputs": [],
   "source": []
  },
  {
   "cell_type": "code",
   "execution_count": null,
   "metadata": {
    "collapsed": true
   },
   "outputs": [],
   "source": []
  },
  {
   "cell_type": "markdown",
   "metadata": {},
   "source": [
    "\n",
    "<center> <h1> IMPORTANDO BIBLIOTECAS (MODULOS E PACOTES) EM PYTHON ! </h1> </center>\n",
    "\n",
    "----\n",
    "\n",
    "<br>\n",
    "\n",
    "\n",
    "De forma simplificada, as bibliotecas são componentes que oferecem funções e classes para nossos programas.<br>\n",
    "“Hum, o que são funções e classes?” você deve estar se perguntando, e eu vou explicar.\n",
    "\n",
    "As Funções são rotinas pré estabelecidas que fazem alguma coisa específica e podem ou não retornar algum resultado. Um exemplo que já estamos usando faz um tempinho é a função print(), que pega uma informação e exibe na tela. Outra função que acabamos de usar é a sorted() que nos retorna um array organizado, além disto, já usamos os método .sort() e .split()\n",
    "\n",
    "<br>\n",
    "\n",
    "\n",
    "\n",
    "<br>\n",
    "\n",
    "\n",
    "    \n",
    "### Exemplo. Importando uma biblioteca\n",
    "\n",
    "\n",
    "\n",
    "\n",
    "---------\n",
    "<br>\n",
    "\n",
    "```python\n",
    "    # utensilios.py\n",
    "def comer_sopa():\n",
    "    return 'colher'\n",
    "\n",
    "def comer_macarrao():\n",
    "    return 'garfo'\n",
    "\n",
    "    \n",
    "    # main.py (opção 1)\n",
    "import utensilios\n",
    "print(utensilios.comer_sopa())\n",
    "\n",
    "    # main.py (opção 2)\n",
    "from utensilios import comer_sopa\n",
    "print(comer_sopa())\n",
    "```"
   ]
  },
  {
   "cell_type": "code",
   "execution_count": 10,
   "metadata": {
    "collapsed": true
   },
   "outputs": [],
   "source": [
    "#help(math)"
   ]
  },
  {
   "cell_type": "code",
   "execution_count": 5,
   "metadata": {},
   "outputs": [
    {
     "data": {
      "text/plain": [
       "2.718281828459045"
      ]
     },
     "execution_count": 5,
     "metadata": {},
     "output_type": "execute_result"
    }
   ],
   "source": [
    "import math #importa math\n",
    "#help(math)\n",
    "# import math as m #importa math com atribuição de nome\n",
    "#from math import pow # Importa um conteudo especifico da pasta math\n",
    "# from math import * #Importa todas as pastas de math\n",
    "math.e\n",
    "\n"
   ]
  },
  {
   "cell_type": "code",
   "execution_count": null,
   "metadata": {
    "collapsed": true
   },
   "outputs": [],
   "source": [
    "\n",
    "#pow(4,2) #sem import pow retorn inteiro\n",
    "#math.pow(4,2) #retorna float\n",
    "#from math import pow #\n",
    "#pow(4,2) #agora retorna float"
   ]
  },
  {
   "cell_type": "code",
   "execution_count": null,
   "metadata": {
    "collapsed": true
   },
   "outputs": [],
   "source": []
  },
  {
   "cell_type": "code",
   "execution_count": null,
   "metadata": {
    "collapsed": true
   },
   "outputs": [],
   "source": []
  },
  {
   "cell_type": "markdown",
   "metadata": {},
   "source": [
    "# Numpy\n",
    "_____\n",
    "<img src='https://www.oreilly.com/library/view/elegant-scipy/9781491922927/assets/elsp_0105.png' width='40%' height='40%'>\n",
    "\n",
    "\n",
    "\n",
    "\n",
    "- Economia de tempo.\n",
    "    - Não precisamos usar loops quando estamos operando em vetores e matrizes \n",
    "\n",
    "    \n",
    "- Menor gasto computacional.\n",
    "    - Não precismos de apontadores para memória. \n",
    "    \n",
    "<img src='https://jakevdp.github.io/PythonDataScienceHandbook/figures/array_vs_list.png' width='40%' height='40%'>\n",
    "   \n"
   ]
  },
  {
   "cell_type": "code",
   "execution_count": 4,
   "metadata": {
    "collapsed": true
   },
   "outputs": [],
   "source": [
    "import numpy as np"
   ]
  },
  {
   "cell_type": "code",
   "execution_count": 5,
   "metadata": {},
   "outputs": [
    {
     "name": "stdout",
     "output_type": "stream",
     "text": [
      "Nosso array [0, 1, 2, 3, 4] multiplicado por 2, possui o seguinte valor: [0, 1, 2, 3, 4, 0, 1, 2, 3, 4]\n",
      "\n",
      "--------------------\n",
      "[0 2 4 6 8]\n",
      "Em numpy, nosso mesmo array [[2, 3], [4, 2]] multiplicado por 2 terá como resultado: [0 1 2 3 4]\n"
     ]
    }
   ],
   "source": [
    "### MOTIVAÇÕES INICIAIS\n",
    "\n",
    "a = [0,1,2,3,4]\n",
    "print('Nosso array '+ str(a) + ' multiplicado por 2, possui o seguinte valor: '+str(a*2))\n",
    "print()\n",
    "a=[[2,3],[4,2]]\n",
    "\n",
    "print('-'*20)\n",
    "\n",
    "b = np.array([0,1,2,3,4])\n",
    "print(b*2)\n",
    "\n",
    "print('Em numpy, nosso mesmo array '+str(a)+' multiplicado por 2 terá como resultado: '+str(b))"
   ]
  },
  {
   "cell_type": "markdown",
   "metadata": {},
   "source": [
    "## Arrays"
   ]
  },
  {
   "cell_type": "code",
   "execution_count": 216,
   "metadata": {},
   "outputs": [
    {
     "name": "stdout",
     "output_type": "stream",
     "text": [
      "Qual tipo de data de um numpy array?\n",
      "<class 'numpy.ndarray'>\n",
      "Formato de um array\n",
      "(4,)\n",
      "(2, 4)\n"
     ]
    }
   ],
   "source": [
    "a=np.array(([1,2,3,4]))\n",
    "print('Qual tipo de data de um numpy array?')\n",
    "print(type(a))\n",
    "print('Formato de um array')\n",
    "print(np.shape(a))\n",
    "b=np.array(([0,1,2,3],[2,4,3,1]))\n",
    "print(np.shape(b))\n"
   ]
  },
  {
   "cell_type": "code",
   "execution_count": 209,
   "metadata": {},
   "outputs": [
    {
     "name": "stdout",
     "output_type": "stream",
     "text": [
      "[0, 4, 6, 8, 10]\n",
      "--------------------\n",
      "[ 0  4  6  8 10]\n",
      "-----\n",
      "[[ 0  4  6  8 10]\n",
      " [ 0  2  4  6  8]]\n"
     ]
    }
   ],
   "source": [
    "a=[0,2,3,4,5]\n",
    "for i in range(len(a)):\n",
    "    a[i] *= 2\n",
    "print(a)\n",
    "\n",
    "print('--'*10)\n",
    "\n",
    "a=np.array(([0,2,3,4,5]))\n",
    "print(a*2)\n",
    "print('-'*5)\n",
    "a=np.array(([0,2,3,4,5],[0,1,2,3,4]))\n",
    "\n",
    "print(a*2)"
   ]
  },
  {
   "cell_type": "code",
   "execution_count": 347,
   "metadata": {
    "collapsed": true
   },
   "outputs": [],
   "source": [
    "a = np.array(([2,1,2],[3,4,8],[0,2,1],[6,4,8]))\n",
    "\n",
    "\n",
    "#print(a)\n",
    "#Indices do array a[linha][coluna]\n",
    "#print(a[2][1])\n",
    "#print(a[2,1])"
   ]
  },
  {
   "cell_type": "markdown",
   "metadata": {},
   "source": [
    "\n",
    "\n",
    "\n",
    "<center>\n",
    "<h1>Estatísticas Básicas em arrays</h1>\n",
    "\n",
    "-----\n",
    "\n",
    "<br>\n",
    "\n",
    "<h2>Média</h2>\n",
    "<img src=\"https://s3.amazonaws.com/com.twilio.prod.twilio-docs/original_images/S7mObXMbLE8AavtzNFYupOHiwoxM-HtximTn5dOsO_w9zslfcshAeoYq5nXDsECFhuZI-I1ZaE.png\">\n",
    " </center>\n",
    "```python\n",
    "def mean(t):\n",
    "    return(float(sum(t)) / len(t))\n",
    "```\n",
    "\n",
    " <center>\n",
    "\n",
    "<h2>Variancia</h2>\n",
    "<img src=\"https://s3.amazonaws.com/com.twilio.prod.twilio-docs/original_images/ceyte3GdRwEFCGAvcSOFttG-b4mmrXmneyoAmHOJGzafwlc8a4Og59ghM44qy8Lj2u2im8Nrzm.png\">\n",
    "</center>\n",
    "```python\n",
    "def var(t, mu):\n",
    "    dev2 = [(x - mu)**2 for x in t]\n",
    "    var = mean(dev2)\n",
    "    return(var)\n",
    "```\n",
    "   <center> \n",
    "<h2>Desvio Padrão</h2>\n",
    "<img src=\"https://calculareconverter.com.br/wp-content/uploads/2018/08/formula-desvio-padrao.png\" width='17%' heigth='17%'>\n",
    "</center>\n",
    "```python\n",
    "def mean2(t):\n",
    "    return(float(sum(t)) / (len(t)-1))\n",
    "    \n",
    "    \n",
    "def des(t, mu):\n",
    "    dev2 = [(x - mu)**2 for x in t]\n",
    "    var = mean2(dev2)\n",
    "    return(sqrt(var))\n",
    "```\n"
   ]
  },
  {
   "cell_type": "code",
   "execution_count": 9,
   "metadata": {},
   "outputs": [
    {
     "data": {
      "text/plain": [
       "6.5333333333333332"
      ]
     },
     "execution_count": 9,
     "metadata": {},
     "output_type": "execute_result"
    }
   ],
   "source": [
    "notas = np.array([0, 0, 9.0, 8.0, 5.0, 10.0, 7.0, 7.5, 4.0, 10.0, 7.0, 7.0, 8.0, 8.0, 7.5]) #transf numpy array\n",
    "notas.max()\n",
    "notas.min()\n",
    "notas.mean()\n",
    "#notas.var()\n",
    "#notas.std()"
   ]
  },
  {
   "cell_type": "code",
   "execution_count": 345,
   "metadata": {
    "collapsed": true
   },
   "outputs": [],
   "source": [
    "np.zeros((2,2))\n",
    "np.ones((2,2))\n",
    "np.full((2,2),7)\n",
    "np.eye((2))\n",
    "\n",
    "a=np.random.random((2,2))"
   ]
  },
  {
   "cell_type": "code",
   "execution_count": 262,
   "metadata": {},
   "outputs": [
    {
     "name": "stdout",
     "output_type": "stream",
     "text": [
      "[ 1  6 11 16]\n",
      " [ 0.  5. 10. 15. 20.]\n"
     ]
    }
   ],
   "source": [
    "\n",
    "# => arange(inicial, final, passos), crio um array que vai de 1 ao até 20, pulando 2 em 2 elementos.\n",
    "a=np.arange(1,20,5)\n",
    "\n",
    "# => linespace(inicial, final, elementos no array)\n",
    "b=np.linspace(0,20,5)\n",
    "print(str(a)+'\\n '+str(b))"
   ]
  },
  {
   "cell_type": "code",
   "execution_count": 376,
   "metadata": {},
   "outputs": [
    {
     "data": {
      "text/plain": [
       "13"
      ]
     },
     "execution_count": 376,
     "metadata": {},
     "output_type": "execute_result"
    }
   ],
   "source": [
    "a = np.array(([1,2]))\n",
    "b = np.array(([3,5]))\n",
    "c = a.dot(b)\n",
    "c"
   ]
  },
  {
   "cell_type": "markdown",
   "metadata": {},
   "source": [
    "## Matlibplot"
   ]
  },
  {
   "cell_type": "code",
   "execution_count": 68,
   "metadata": {
    "collapsed": true
   },
   "outputs": [],
   "source": [
    "%matplotlib inline\n",
    "import matplotlib.pyplot as plt"
   ]
  },
  {
   "cell_type": "code",
   "execution_count": 409,
   "metadata": {},
   "outputs": [
    {
     "data": {
      "image/png": "[encoded data removed]",
      "text/plain": [
       "<Figure size 432x288 with 1 Axes>"
      ]
     },
     "metadata": {
      "needs_background": "light"
     },
     "output_type": "display_data"
    }
   ],
   "source": [
    "x = [2,3,2,10,4,0]\n",
    "plt.plot(x)\n",
    "plt.show()"
   ]
  },
  {
   "cell_type": "code",
   "execution_count": 97,
   "metadata": {},
   "outputs": [
    {
     "data": {
      "text/plain": [
       "[<matplotlib.lines.Line2D at 0x266bdcc9320>]"
      ]
     },
     "execution_count": 97,
     "metadata": {},
     "output_type": "execute_result"
    },
    {
     "data": {
      "image/png": "[encoded data removed]",
      "text/plain": [
       "<matplotlib.figure.Figure at 0x266bdc5eba8>"
      ]
     },
     "metadata": {},
     "output_type": "display_data"
    }
   ],
   "source": [
    "# Estilo nos graficos\n",
    "\n",
    "plt.plot?\n",
    "\n",
    "plt.plot(x,'r')\n"
   ]
  },
  {
   "cell_type": "code",
   "execution_count": 413,
   "metadata": {},
   "outputs": [
    {
     "data": {
      "image/png": "[encoded data removed]",
      "text/plain": [
       "<Figure size 432x288 with 1 Axes>"
      ]
     },
     "metadata": {
      "needs_background": "light"
     },
     "output_type": "display_data"
    }
   ],
   "source": [
    "y = [2,3,4,5,6,3]\n",
    "\n",
    "plt.title('Gráfico bem esquisito')\n",
    "plt.xlabel('Nome do eixo X')\n",
    "plt.ylabel('Nome do eixo Y')\n",
    "plt.plot(x,y)\n",
    "plt.show()\n",
    "#plt.savefig('nome_da_imagem.png', transparent = True) #Cria um png com fundo branco\n"
   ]
  },
  {
   "cell_type": "code",
   "execution_count": 95,
   "metadata": {},
   "outputs": [
    {
     "data": {
      "text/plain": [
       "[<matplotlib.lines.Line2D at 0x266bdf01908>]"
      ]
     },
     "execution_count": 95,
     "metadata": {},
     "output_type": "execute_result"
    },
    {
     "data": {
      "image/png": "[encoded data removed]",
      "text/plain": [
       "<matplotlib.figure.Figure at 0x266bdc78fd0>"
      ]
     },
     "metadata": {},
     "output_type": "display_data"
    }
   ],
   "source": []
  },
  {
   "cell_type": "code",
   "execution_count": 404,
   "metadata": {},
   "outputs": [
    {
     "data": {
      "image/png": "[encoded data removed]",
      "text/plain": [
       "<Figure size 432x288 with 1 Axes>"
      ]
     },
     "metadata": {
      "needs_background": "light"
     },
     "output_type": "display_data"
    }
   ],
   "source": [
    "\n",
    "x = np.arange(0, 3 * np.pi, 0.1)\n",
    "y = np.sin(x)\n",
    "\n",
    "plt.plot(x, y)\n",
    "plt.show()"
   ]
  },
  {
   "cell_type": "code",
   "execution_count": 93,
   "metadata": {},
   "outputs": [
    {
     "data": {
      "image/png": "[encoded data removed]",
      "text/plain": [
       "<matplotlib.figure.Figure at 0x266be0c7cc0>"
      ]
     },
     "metadata": {},
     "output_type": "display_data"
    }
   ],
   "source": [
    "x = np.arange(0, 3 * np.pi, 0.1)\n",
    "y_sin = np.sin(x)\n",
    "y_cos = np.cos(x)\n",
    "\n",
    "plt.plot(x, y_sin,2)\n",
    "plt.plot(x, y_cos,)\n",
    "plt.xlabel('x axis label')\n",
    "plt.ylabel('y axis label')\n",
    "plt.title('Sine and Cosine')\n",
    "plt.legend(['Sine', 'Cosine'])\n",
    "plt.show()"
   ]
  },
  {
   "cell_type": "code",
   "execution_count": 85,
   "metadata": {},
   "outputs": [
    {
     "data": {
      "image/png": "[encoded data removed]",
      "text/plain": [
       "<matplotlib.figure.Figure at 0x266bc6ddda0>"
      ]
     },
     "metadata": {},
     "output_type": "display_data"
    }
   ],
   "source": [
    "x = np.arange(0, 3 * np.pi, 0.1)\n",
    "y_sin = np.sin(x)\n",
    "y_cos = np.cos(x)\n",
    "\n",
    "plt.subplot(2, 1, 1)\n",
    "plt.plot(x, y_sin)\n",
    "plt.title('seno')\n",
    "\n",
    "plt.subplot(2, 1, 2)\n",
    "plt.plot(x, y_cos)\n",
    "plt.title('cosseno')\n",
    "plt.show()"
   ]
  },
  {
   "cell_type": "code",
   "execution_count": 35,
   "metadata": {},
   "outputs": [
    {
     "data": {
      "image/png": "[encoded data removed]",
      "text/plain": [
       "<matplotlib.figure.Figure at 0x24851401f60>"
      ]
     },
     "metadata": {},
     "output_type": "display_data"
    }
   ],
   "source": [
    "import numpy as np\n",
    "import matplotlib.pyplot as plt\n",
    "\n",
    "x = np.arange(-3.14, 3.14, .021) # Cria x-data.\n",
    "\n",
    "y = np.sin(1)*2*x\n",
    "\n",
    "y2 = np.sin(1)/x\n",
    "\n",
    "plt.plot(x,y,'', x, y2, '')\n",
    "\n",
    "plt.show()\n",
    "\n"
   ]
  },
  {
   "cell_type": "code",
   "execution_count": 37,
   "metadata": {
    "collapsed": true
   },
   "outputs": [],
   "source": [
    "plt.subplot?"
   ]
  },
  {
   "cell_type": "markdown",
   "metadata": {},
   "source": [
    "<center>\n",
    "\n",
    "## Graficos 3D \n",
    "<img src=\"http://wspr.io/matlab/delsurf/meshgrid.png\" width='70%' heigth='70%'>"
   ]
  },
  {
   "cell_type": "code",
   "execution_count": 485,
   "metadata": {},
   "outputs": [
    {
     "data": {
      "text/plain": [
       "<mpl_toolkits.mplot3d.art3d.Path3DCollection at 0x16089c89198>"
      ]
     },
     "execution_count": 485,
     "metadata": {},
     "output_type": "execute_result"
    },
    {
     "data": {
      "image/png": "[encoded data removed]",
      "text/plain": [
       "<Figure size 432x288 with 1 Axes>"
      ]
     },
     "metadata": {
      "needs_background": "light"
     },
     "output_type": "display_data"
    }
   ],
   "source": [
    "from mpl_toolkits.mplot3d import Axes3D\n",
    "\n",
    "ax = plt.axes(projection='3d')\n",
    "\n",
    "z = np.linspace(0, 20, 200)\n",
    "x = z * np.sin(20 * z)\n",
    "y = z * np.cos(20 * z)\n",
    "\n",
    "c = x + y\n",
    "\n",
    "ax.scatter(x, y, z, '--b')"
   ]
  },
  {
   "cell_type": "code",
   "execution_count": 471,
   "metadata": {},
   "outputs": [
    {
     "data": {
      "text/plain": [
       "<mpl_toolkits.mplot3d.art3d.Path3DCollection at 0x160883f7748>"
      ]
     },
     "execution_count": 471,
     "metadata": {},
     "output_type": "execute_result"
    },
    {
     "data": {
      "image/png": "[encoded data removed]",
      "text/plain": [
       "<Figure size 432x288 with 1 Axes>"
      ]
     },
     "metadata": {
      "needs_background": "light"
     },
     "output_type": "display_data"
    }
   ],
   "source": [
    "from mpl_toolkits.mplot3d import Axes3D\n",
    "\n",
    "ax = plt.axes(projection='3d')\n",
    "t = np.linspace(0,200,2000)\n",
    "z = np.linspace(-100,100,2000)\n",
    "x = z*np.cos(t)\n",
    "y = z*np.sin(t)\n",
    "\n",
    "ax.scatter(x, y, z, '--b')"
   ]
  },
  {
   "cell_type": "code",
   "execution_count": null,
   "metadata": {
    "collapsed": true
   },
   "outputs": [],
   "source": []
  },
  {
   "cell_type": "markdown",
   "metadata": {},
   "source": [
    "<center><h1>Biblioteca Sympy</h1></center>\n",
    "\n",
    "-----------\n",
    "<br>\n",
    "\n"
   ]
  },
  {
   "cell_type": "code",
   "execution_count": null,
   "metadata": {
    "collapsed": true
   },
   "outputs": [],
   "source": []
  },
  {
   "cell_type": "code",
   "execution_count": 17,
   "metadata": {},
   "outputs": [
    {
     "name": "stdout",
     "output_type": "stream",
     "text": [
      "Para equação de movimento x**2 + 2*x + 3 , Velocidade será:  2*x + 2 e a Aceleração será:  2\n"
     ]
    }
   ],
   "source": [
    "import sympy\n",
    "from sympy import *\n",
    "x = symbols('x')\n",
    "dist = x**2 + 2*x + 3\n",
    "#diff(função, variavel, vezes que irá derivar)\n",
    "v = diff(dist, x, 1)\n",
    "a = diff(dist, x, 2)\n",
    "print('Para equação de movimento', dist, ', Velocidade será: ', v, 'e a Aceleração será: ', a) \n",
    "##d,v,s em um ponto.\n",
    "#print(dist.subs({x:10}),\n",
    "#v.subs({x:10}),\n",
    "#a.subs({x:10}))\n"
   ]
  },
  {
   "cell_type": "code",
   "execution_count": 20,
   "metadata": {},
   "outputs": [
    {
     "data": {
      "text/plain": [
       "Derivative(2*x**2 + 3*y**2 - exp(2*x**2 + y) + 3, y, x)"
      ]
     },
     "metadata": {},
     "output_type": "display_data"
    },
    {
     "data": {
      "text/plain": [
       "-exp(10) + 23"
      ]
     },
     "execution_count": 20,
     "metadata": {},
     "output_type": "execute_result"
    }
   ],
   "source": [
    "x, y = symbols('x y')\n",
    "#init_printing(use_unicode=True)\n",
    "dist = 3 + 2*x**2 - exp(2*x**2+y) + 3*y**2\n",
    "diff(dist, x)\n",
    "diff(dist, y)\n",
    "display(Derivative(dist, y,x))\n",
    "diff(dist, y,x)\n",
    "dist.subs({x:2, y:2})\n"
   ]
  },
  {
   "cell_type": "code",
   "execution_count": 56,
   "metadata": {},
   "outputs": [
    {
     "data": {
      "text/plain": [
       "24*x"
      ]
     },
     "execution_count": 56,
     "metadata": {},
     "output_type": "execute_result"
    }
   ],
   "source": [
    "x = symbols('x')\n",
    "f = x**4+2*x\n",
    "diff(f,x,3)"
   ]
  },
  {
   "cell_type": "code",
   "execution_count": 66,
   "metadata": {
    "collapsed": true
   },
   "outputs": [],
   "source": [
    "x = symbols('x')\n",
    "f = x**2+2*x+20\n",
    "ace = []\n",
    "vel = []\n",
    "dist=[]\n",
    "\n",
    "for i in range(20):\n",
    "    dist.append(f.subs({x:i}))\n",
    "    vel.append((diff(f,x)).subs({x:i}))\n",
    "    ace.append((diff(f,x,2)).subs({x:i}))\n"
   ]
  },
  {
   "cell_type": "code",
   "execution_count": 67,
   "metadata": {},
   "outputs": [
    {
     "data": {
      "image/png": "[encoded data removed]",
      "text/plain": [
       "<matplotlib.figure.Figure at 0x266bdbdcfd0>"
      ]
     },
     "metadata": {},
     "output_type": "display_data"
    }
   ],
   "source": [
    "import numpy as np\n",
    "import matplotlib.pyplot as plt\n",
    "\n",
    "dist = np.array(dist)\n",
    "vel = np.array(vel)\n",
    "ace = np.array(ace)\n",
    "x = np.array(range(20))\n",
    "\n",
    "\n",
    "plt.plot(x,dist,'--', x, v, '', x, ace, 'o')\n",
    "\n",
    "plt.show()\n",
    "\n"
   ]
  },
  {
   "cell_type": "code",
   "execution_count": null,
   "metadata": {
    "collapsed": true
   },
   "outputs": [],
   "source": []
  },
  {
   "cell_type": "code",
   "execution_count": 33,
   "metadata": {},
   "outputs": [
    {
     "data": {
      "image/png": "[encoded data removed]",
      "text/latex": [
       "$$0$$"
      ],
      "text/plain": [
       "0"
      ]
     },
     "execution_count": 33,
     "metadata": {},
     "output_type": "execute_result"
    }
   ],
   "source": [
    "#init_printing(use_unicode=True)\n",
    "limit(1/x, x, -oo, dir='-')"
   ]
  },
  {
   "cell_type": "code",
   "execution_count": 31,
   "metadata": {
    "collapsed": true
   },
   "outputs": [],
   "source": [
    "limit?"
   ]
  },
  {
   "cell_type": "code",
   "execution_count": null,
   "metadata": {
    "collapsed": true
   },
   "outputs": [],
   "source": []
  },
  {
   "cell_type": "code",
   "execution_count": null,
   "metadata": {
    "collapsed": true
   },
   "outputs": [],
   "source": []
  },
  {
   "cell_type": "code",
   "execution_count": null,
   "metadata": {
    "collapsed": true
   },
   "outputs": [],
   "source": []
  },
  {
   "cell_type": "code",
   "execution_count": null,
   "metadata": {
    "collapsed": true
   },
   "outputs": [],
   "source": []
  },
  {
   "cell_type": "code",
   "execution_count": null,
   "metadata": {
    "collapsed": true
   },
   "outputs": [],
   "source": []
  },
  {
   "cell_type": "code",
   "execution_count": null,
   "metadata": {
    "collapsed": true
   },
   "outputs": [],
   "source": []
  },
  {
   "cell_type": "code",
   "execution_count": null,
   "metadata": {
    "collapsed": true
   },
   "outputs": [],
   "source": []
  },
  {
   "cell_type": "code",
   "execution_count": null,
   "metadata": {
    "collapsed": true
   },
   "outputs": [],
   "source": []
  },
  {
   "cell_type": "code",
   "execution_count": null,
   "metadata": {
    "collapsed": true
   },
   "outputs": [],
   "source": []
  },
  {
   "cell_type": "code",
   "execution_count": null,
   "metadata": {
    "collapsed": true
   },
   "outputs": [],
   "source": []
  },
  {
   "cell_type": "code",
   "execution_count": null,
   "metadata": {
    "collapsed": true
   },
   "outputs": [],
   "source": []
  },
  {
   "cell_type": "markdown",
   "metadata": {},
   "source": []
  },
  {
   "cell_type": "code",
   "execution_count": null,
   "metadata": {
    "collapsed": true
   },
   "outputs": [],
   "source": []
  }
 ],
 "metadata": {
  "kernelspec": {
   "display_name": "Python 3",
   "language": "python",
   "name": "python3"
  },
  "language_info": {
   "codemirror_mode": {
    "name": "ipython",
    "version": 3
   },
   "file_extension": ".py",
   "mimetype": "text/x-python",
   "name": "python",
   "nbconvert_exporter": "python",
   "pygments_lexer": "ipython3",
   "version": "3.6.3"
  }
 },
 "nbformat": 4,
 "nbformat_minor": 2
}
