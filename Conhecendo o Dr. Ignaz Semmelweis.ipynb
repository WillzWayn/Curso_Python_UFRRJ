{
 "cells": [
  {
   "cell_type": "markdown",
   "metadata": {},
   "source": [
    "# Modulo Pandas\n",
    "\n",
    "<img src='https://cdn-images-1.medium.com/max/1600/0*kVETqwtYsQ8BFJDc.gif' style='width:40%'>\n",
    "\n",
    "# Comandos básicos.\n",
    "\n",
    "#### Abrindo e escrevendo arquivos CSV:\n",
    "Para ler arquivos CSV codificados em ISO\n",
    "- pd.read_csv('nome_do_arquivo.csv', encoding='ISO-8859-1')\n",
    "\n",
    "Para escrever arquivos CSV\n",
    "- pd.to_csv('nome_do_arquivo_para_salvar.csv')\n",
    "\n",
    "#### Abrindo arquivos de Excel:\n",
    "- xlsx = pd.ExcelFile('seu_arquivo_excel.xlsx')\n",
    "- df = pd.read_excel(xlsx, 'Planilha 1'\n",
    "\n",
    "#### Abrindo HTML\n",
    "- df = pd.read_html(‘linktoonlinehtmlfile’)\n",
    "\n",
    "#### Removendo linhas e colunas: \n",
    "Removendo linhas pelo index\n",
    "- s.drop([0, 1]) \n",
    "\n",
    "Removendo colunas utilizando o argumento axis=1\n",
    "- df.drop('País', axis=1)\n",
    "\n",
    "#### Coletando informações básicas sobre o DataFrame: \n",
    "Quantidade de linhas e colunas do DataFrame\n",
    "- df.shape\n",
    "\n",
    "Descrição do Index\n",
    "- df.index \n",
    "\n",
    "Colunas presentes no DataFrame\n",
    "- df.columns \n",
    "\n",
    "Contagem de dados não-nulos\n",
    "- df.count()\n",
    "\n",
    "#### Criando uma nova coluna em um DataFrame: \n",
    "- df['Nova Coluna'] = 0\n",
    "\n",
    "#### Renomeando colunas de um DataFrame: \n",
    "#Se seu DataFrame possui 3 colunas, passe 3 novos valores em uma lista\n",
    "- df.columns = ['Coluna 1', 'Coluna 2', 'Coluna 3']\n",
    "\n",
    "#### Resumo dos dados: \n",
    "\n",
    "- df.sum() \n",
    "#Soma dos valores de um DataFrame\n",
    "- df.min()\n",
    "#Menor valor de um DataFrame\n",
    "- df.max()\n",
    "#Maior valor\n",
    "- df.idmin()\n",
    "#Index do menor valor\n",
    "- df.idmax()\n",
    "#Index do maior valor\n",
    "- df.describe()\n",
    "#Resumo estatístico do DataFrame, com quartis, mediana, etc.\n",
    "- df.mean()\n",
    "#Média dos valores\n",
    "- df.median()\n",
    "#Mediana dos valores\n",
    "\n",
    "#### Aplicando funções: \n",
    "Aplicando uma função que substitui a por b\n",
    "- df.apply(lambda x: x.replace('a', 'b'))\n",
    "\n",
    "#### Ordenando valores:\n",
    "Ordenando em ordem crescente\n",
    "- df.sort_values()\n",
    "\n",
    "Ordenando em ordem decrescente\n",
    "- df.sort_values(ascending=False) \n",
    "\n",
    "#### Operações aritméticas em Series: \n",
    "- s = pd.Series([1, 2, 3, 4, 5], index=['a', 'b', 'c', 'd', 'e'])\n",
    "\n",
    "#Somando todos os valores presentes na Series por 2\n",
    "- s.add(2)\n",
    "\n",
    "#Subtraindo 2 de todos os valores\n",
    "- s.sub(2)\n",
    "\n",
    "#Multiplicando todos os valores por 2\n",
    "- s.mul(2)\n",
    "\n",
    "#Dividindo valores por 2\n",
    "- s.div(2)\n",
    "\n",
    "### Indexação por Boolean:\n",
    "#Filtrando o DataFrame para mostrar apenas valores pares\n",
    "- df[df['População'] % 2 == 0]\n",
    "\n",
    "Filtrando Apenas valores maiores que 2\n",
    "- df[df['Pessoas na casa'] > 2 == 0]\n",
    "\n",
    "#### Selecionando valores: \n",
    "#Selecionando a primeira linha da coluna país\n",
    "- df.loc[0, 'País']\n"
   ]
  },
  {
   "cell_type": "markdown",
   "metadata": {},
   "source": [
    "1. *Conhecendo o Dr. Ignaz Semmelweis*\n",
    "---\n",
    "\n",
    "\n",
    "<img src='https://upload.wikimedia.org/wikipedia/commons/thumb/f/f8/Ignaz_Semmelweis_1860.jpg/225px-Ignaz_Semmelweis_1860.jpg'>\n",
    "\n",
    "Esse doutor da foto se chama Ignaz Semmelweis, um médico Hungaro nascido em 1818 que trabalhava no hospital geral de Vienna. O olhar com mistura de tristeza e seriedade do Dr. Semmelweis, provalmente é motivado por estar pensando em seus estudos sobre a \"a febre dos recem-nascidos\", uma doença que em sua época afetava mulheres que haviam dado a luz. Seus estudos começaram por meiados nos anos 1840 no hospital em que trabalhava, pois, mais de 10% das mulheres que realizavam trabalho de parto em seu hospital morriam de febre. Ele pensava sobre o assunto, pois entendi o motivo das mortes: Era uma contaminação das mãos dos médicos, e mesmo conversando com outros médicos sobre a importancia de lavar as mãos antes dos procedimentos cirurgicos, os médicos não os dava ouvidos.\n",
    "\n",
    "Esse notebook tem como objetivo fazer uma re-análise dos dados coletados pelo proprorio Sr. Semmelweis que demonstrou a importancia de se lavar as mãos."
   ]
  },
  {
   "cell_type": "markdown",
   "metadata": {
    "collapsed": true
   },
   "source": [
    "## Tarefas\n",
    "\n",
    "- [ ] Importar o modulo pandas\n",
    "- [ ] Ler o arquivo com os dados que estão no diretório '../DataScience/datas/doctor/birth_deaths_by_clinic.csv'\n",
    "- [ ] Imprimir os dados."
   ]
  },
  {
   "cell_type": "code",
   "execution_count": null,
   "metadata": {},
   "outputs": [],
   "source": [
    "import os\n",
    "import pandas as pd\n",
    "print(os.listdir(\"../DataScience\"))\n",
    "#data = pd.read_csv('../DataScience/datas/doctor/birth_deaths_by_clinic.csv')\n",
    "\n"
   ]
  },
  {
   "cell_type": "code",
   "execution_count": null,
   "metadata": {},
   "outputs": [],
   "source": []
  },
  {
   "cell_type": "code",
   "execution_count": null,
   "metadata": {
    "collapsed": true
   },
   "outputs": [],
   "source": []
  },
  {
   "cell_type": "markdown",
   "metadata": {
    "collapsed": true
   },
   "source": [
    "## 2. Um número alarmante de mortes.\n",
    "Observe que a tabela mostra o numero de mulheres que tiveram filhos em duas clinicas distintas do hospital de Vienna entre os anos de 1841 à 1846. Pode-se perceber que ao ter filhos a taxa de mortalidade é muito alta, muitas mulheres morriam ao dar a luz, morte essa motivada principalmente pela febre do recem-nascido.\n",
    "\n",
    "Para vermos os dados de forma mais clara, faremos uma proporção de quantas mulheres morrem ao dar a luz."
   ]
  },
  {
   "cell_type": "markdown",
   "metadata": {},
   "source": [
    "Com os dados carregados, faça:\n",
    "\n",
    "- [ ] Crie uma nova coluna. Ela deve se chamar M.M.N (Média de Morte por nascimento).\n",
    "- [ ] Media_Morte_Nasc vai receber a porcentagem de mulheres que morrem ao dar a luz.\n",
    "- [ ] Carregue as Colunas da Clinica 1 Para data_clinica1 e os da clinica 2 para data_clinica2\n"
   ]
  },
  {
   "cell_type": "code",
   "execution_count": null,
   "metadata": {
    "collapsed": true
   },
   "outputs": [],
   "source": []
  },
  {
   "cell_type": "markdown",
   "metadata": {},
   "source": [
    "## 3. Visualizando os dados !\n",
    "Agora que nossas variáveis estão separadas, fica mais facil realizar um grafico com elas. Vamos plotar-lo usando a biblioteca matlibplot !\n",
    "\n"
   ]
  },
  {
   "cell_type": "markdown",
   "metadata": {},
   "source": [
    "## Tarefas\n",
    "\n",
    "- [ ] Importar o modulo de plotar graficos\n",
    "- [ ] Plotar M.M.N por ano das duas clinicas utilizando o método dataFrame plot\n",
    "- [ ] Utilize label's no grafico ! eixo.set_ylabel('Label')"
   ]
  },
  {
   "cell_type": "code",
   "execution_count": null,
   "metadata": {
    "collapsed": true
   },
   "outputs": [],
   "source": [
    "# This makes plots appear in the notebook\n",
    "%matplotlib inline \n",
    "#DataFrame.plot(x=None, y=None, kind='line', ax=None, subplots=False, sharex=None, sharey=False, layout=None,\n",
    "#figsize=None, use_index=True, title=None, grid=None, legend=True, style=None, logx=False, logy=False, loglog=False,\n",
    "#xticks=None, yticks=None, xlim=None, ylim=None, rot=None, fontsize=None, colormap=None, table=False, yerr=None,\n",
    "#xerr=None, secondary_y=False, sort_columns=False, **kwds)\n",
    "\n"
   ]
  },
  {
   "cell_type": "markdown",
   "metadata": {},
   "source": [
    "## 4. Início da asspesia.\n",
    "\n",
    "<img src='https://assetsnffrgf-a.akamaihd.net/assets/m/102016087/univ/art/102016087_univ_cnt_2_xl.jpg', style='width:50%'>\n",
    "\n",
    "Por que a proporção de mortes é tão maior na clinica 1?\n",
    "\n",
    "No início de 1847, um amigo e colega de trabalho de Ignaz, chamado Jakob Kolletschka, morreu por causa de uma infecção generalizada. Ele se machucou enquanto examinava um cadáver e foi contaminado. Ignaz leu o relatório da causa da morte do seu amigo. Alguns dos resultados eram idênticos aos das mulheres que morriam de febre do pós-parto. Assim, Ignaz percebeu que talvez fosse algum tipo de contaminação que vinha dos  cadáveres que causava aquela doença. Os médicos e estudantes de medicina muitas vezes mexiam com cadáveres antes de examinar as mulheres grávidas ou de auxiliar as que estavam em trabalho de parto. Sem saber, eles estavam transmitindo a doença àquelas mulheres. O número de mães que morria na segunda maternidade era menor porque os alunos do curso de partos não mexiam com cadáveres.\n",
    "\n",
    "Semmelweis comecou a desconfiar que tinha alguma coisa nos cadáveres, que ficava impregnado nas mãos dos médicos e que causavam a febre. Então como uma medida de desespero, ele decretou que todos deveriam lavar as mãos. Ninguém em Vienna sabia sobre bactérias naquele tempo.\n",
    "\n",
    "Vamos analizar os dados do relatório mensal de Semmelweis, afim de examinar o que suas medidas acarretaram."
   ]
  },
  {
   "cell_type": "markdown",
   "metadata": {},
   "source": [
    "## Tarefas\n",
    "\n",
    "- [ ] Ler o arquivo com os dados que estão no diretório '../datas/doctor/monthly_deaths.csv' na variavel dadosMes\n",
    "- [ ] Calcule a relação de mortes por nascimento em uma nova variável na lista.\n",
    "- [ ] Faça o grafico de mortes em relação ao tempo.\n"
   ]
  },
  {
   "cell_type": "code",
   "execution_count": null,
   "metadata": {},
   "outputs": [],
   "source": []
  },
  {
   "cell_type": "markdown",
   "metadata": {},
   "source": [
    "## 5. O resultado de lavar as mãos.\n",
    "Com os dados dos meses carregados, podemos perceber a relação de mortes com o tempo. \n",
    "\n",
    "Podemos ver que a mortalidade das mães diminuiu drasticamente. Esse resultado foi graças a influencia de Semmelweis que tornou obrigatório apartir do verão de 1847, lavar as mãos. Esse efeito pode ser melhor evidenciado ao detarcar-mos esse periodo no gráfico."
   ]
  },
  {
   "cell_type": "markdown",
   "metadata": {},
   "source": [
    " ## Tarefas\n",
    "\n",
    "- [ ] Crie uma variavel contendo a data de inicio dos procedimentos médicos que recebe o valor pd.to_datetime('1847-06-01').\n",
    "- [ ] Criar uma variável que contem os dados de proporção de mortes antes e depois da mudança.\n",
    "- [ ] Utilize o método de média.\n",
    "- [ ] Crie uma variável contendo diferença entre as médias.\n"
   ]
  },
  {
   "cell_type": "code",
   "execution_count": null,
   "metadata": {},
   "outputs": [],
   "source": [
    "inicioLavarMaos = pd.to_datetime('1847-06-01')\n"
   ]
  },
  {
   "cell_type": "markdown",
   "metadata": {},
   "source": [
    "## 6. Então lavar as mãos reduziu a mortalidade para as mães? em quantas mortes?\n",
    "\n",
    "Na média, quanto foi a redução de mortes em comparação aos dois períodos?"
   ]
  },
  {
   "cell_type": "markdown",
   "metadata": {},
   "source": [
    "## Tarefas\n",
    "\n",
    "- [ ] Utilize o método de média na proporção de mortes antes e depois da rotina médica de lavar as mãos.\n",
    "- [ ] Crie uma variável contendo diferença entre as médias.\n"
   ]
  },
  {
   "cell_type": "code",
   "execution_count": null,
   "metadata": {},
   "outputs": [],
   "source": []
  },
  {
   "cell_type": "code",
   "execution_count": null,
   "metadata": {
    "collapsed": true
   },
   "outputs": [],
   "source": []
  },
  {
   "cell_type": "markdown",
   "metadata": {},
   "source": [
    "## 7. O destino do Dr. Semmelweis\n",
    "\n",
    "Percebermos que lavar as mãos reduz a mortalidade de mães em quase 10 pontos percentuais, parece que Semmelweis tinha provas sólidas de que a lavagem das mãos era um procedimento simples, mas altamente eficaz, que poderia salvar muitas vidas. Porém, tradigamente, apesar das evidencias, a teoria de Semmelweis sobre a febre do parto que era causada por alguma substancia (que hoje conhecemos como bactérias) adquirida através das autopsias foi ridicularizada pelos cientistas de sua época. A comunidade médica rejeitou sua descobertas e Semmelweis foi forçado em 1849 a se retirar do hospital.\n",
    "\n",
    "Uma razão para isso, é que métodos estatisticos, assim como argumentos estatíscos não eram aceitos na comunidade médica dos anos 80s. Sommelweis só publicou seus dados como extensas tabelas de dados brutos, sem realizar qualquer gráfico ou intervalos de confiança. Talvez, se tivesse tido o conhecimento da análise que fizemos hoje, os médicos de Viennese tiream dado mais credibilidade a seu trabalho."
   ]
  },
  {
   "cell_type": "code",
   "execution_count": null,
   "metadata": {
    "collapsed": true
   },
   "outputs": [],
   "source": [
    "doutores_devem_lavar_as_maos = True;"
   ]
  }
 ],
 "metadata": {
  "kernelspec": {
   "display_name": "Python 3",
   "language": "python",
   "name": "python3"
  },
  "language_info": {
   "codemirror_mode": {
    "name": "ipython",
    "version": 3
   },
   "file_extension": ".py",
   "mimetype": "text/x-python",
   "name": "python",
   "nbconvert_exporter": "python",
   "pygments_lexer": "ipython3",
   "version": "3.6.3"
  }
 },
 "nbformat": 4,
 "nbformat_minor": 2
}
